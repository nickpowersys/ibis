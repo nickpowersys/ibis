{
 "cells": [
  {
   "cell_type": "code",
   "execution_count": 1,
   "id": "092163ed-1505-436f-b7e6-7bae5f549dcb",
   "metadata": {},
   "outputs": [],
   "source": [
    "import ibis\n",
    "\n",
    "from palmerpenguins import load_penguins\n",
    "\n",
    "ibis.options.interactive = True"
   ]
  },
  {
   "cell_type": "code",
   "execution_count": null,
   "id": "7459b99c-89ad-45f1-9716-c9ca0acf635b",
   "metadata": {},
   "outputs": [],
   "source": [
    "con = ibis.polars.connect()"
   ]
  },
  {
   "cell_type": "code",
   "execution_count": 2,
   "id": "f12429b4-4dae-4be3-b2f3-3a2dad659a8c",
   "metadata": {},
   "outputs": [
    {
     "ename": "IbisError",
     "evalue": "You have used a function that relies on the default backend, but the default\nbackend (DuckDB) is not installed.\n\nYou may specify an alternate backend to use, e.g.\n\nibis.set_backend(\"polars\")\n\nor to install the DuckDB backend, run:\n\n    pip install 'ibis-framework[duckdb]'\n\nor\n\n    conda install -c conda-forge ibis-framework\n\nFor more information on available backends, visit https://ibis-project.org/install\n",
     "output_type": "error",
     "traceback": [
      "\u001b[0;31m---------------------------------------------------------------------------\u001b[0m",
      "\u001b[0;31mModuleNotFoundError\u001b[0m                       Traceback (most recent call last)",
      "File \u001b[0;32m/app/ibis/config.py:162\u001b[0m, in \u001b[0;36m_default_backend\u001b[0;34m()\u001b[0m\n\u001b[1;32m    161\u001b[0m \u001b[38;5;28;01mtry\u001b[39;00m:\n\u001b[0;32m--> 162\u001b[0m     \u001b[38;5;28;01mimport\u001b[39;00m\u001b[38;5;250m \u001b[39m\u001b[38;5;21;01mduckdb\u001b[39;00m\u001b[38;5;250m \u001b[39m\u001b[38;5;28;01mas\u001b[39;00m\u001b[38;5;250m \u001b[39m\u001b[38;5;21;01m_\u001b[39;00m  \u001b[38;5;66;03m# noqa: F401\u001b[39;00m\n\u001b[1;32m    163\u001b[0m \u001b[38;5;28;01mexcept\u001b[39;00m \u001b[38;5;167;01mImportError\u001b[39;00m:\n",
      "\u001b[0;31mModuleNotFoundError\u001b[0m: No module named 'duckdb'",
      "\nDuring handling of the above exception, another exception occurred:\n",
      "\u001b[0;31mIbisError\u001b[0m                                 Traceback (most recent call last)",
      "Cell \u001b[0;32mIn[2], line 1\u001b[0m\n\u001b[0;32m----> 1\u001b[0m penguins \u001b[38;5;241m=\u001b[39m \u001b[43mibis\u001b[49m\u001b[38;5;241;43m.\u001b[39;49m\u001b[43mexamples\u001b[49m\u001b[38;5;241;43m.\u001b[39;49m\u001b[43mpenguins\u001b[49m\u001b[38;5;241;43m.\u001b[39;49m\u001b[43mfetch\u001b[49m\u001b[43m(\u001b[49m\u001b[43m)\u001b[49m\n",
      "File \u001b[0;32m/app/ibis/examples/__init__.py:36\u001b[0m, in \u001b[0;36mExample.fetch\u001b[0;34m(self, table_name, backend)\u001b[0m\n\u001b[1;32m     29\u001b[0m \u001b[38;5;28;01mdef\u001b[39;00m\u001b[38;5;250m \u001b[39m\u001b[38;5;21mfetch\u001b[39m(\n\u001b[1;32m     30\u001b[0m     \u001b[38;5;28mself\u001b[39m,\n\u001b[1;32m     31\u001b[0m     \u001b[38;5;241m*\u001b[39m,\n\u001b[1;32m     32\u001b[0m     table_name: \u001b[38;5;28mstr\u001b[39m \u001b[38;5;241m|\u001b[39m \u001b[38;5;28;01mNone\u001b[39;00m \u001b[38;5;241m=\u001b[39m \u001b[38;5;28;01mNone\u001b[39;00m,\n\u001b[1;32m     33\u001b[0m     backend: BaseBackend \u001b[38;5;241m|\u001b[39m \u001b[38;5;28;01mNone\u001b[39;00m \u001b[38;5;241m=\u001b[39m \u001b[38;5;28;01mNone\u001b[39;00m,\n\u001b[1;32m     34\u001b[0m ) \u001b[38;5;241m-\u001b[39m\u001b[38;5;241m>\u001b[39m ir\u001b[38;5;241m.\u001b[39mTable:\n\u001b[1;32m     35\u001b[0m     \u001b[38;5;28;01mif\u001b[39;00m backend \u001b[38;5;129;01mis\u001b[39;00m \u001b[38;5;28;01mNone\u001b[39;00m:\n\u001b[0;32m---> 36\u001b[0m         backend \u001b[38;5;241m=\u001b[39m \u001b[43mibis\u001b[49m\u001b[38;5;241;43m.\u001b[39;49m\u001b[43mget_backend\u001b[49m\u001b[43m(\u001b[49m\u001b[43m)\u001b[49m\n\u001b[1;32m     38\u001b[0m     name \u001b[38;5;241m=\u001b[39m \u001b[38;5;28mself\u001b[39m\u001b[38;5;241m.\u001b[39mname\n\u001b[1;32m     40\u001b[0m     \u001b[38;5;28;01mif\u001b[39;00m table_name \u001b[38;5;129;01mis\u001b[39;00m \u001b[38;5;28;01mNone\u001b[39;00m:\n",
      "File \u001b[0;32m/app/ibis/expr/api.py:1780\u001b[0m, in \u001b[0;36mget_backend\u001b[0;34m(expr)\u001b[0m\n\u001b[1;32m   1777\u001b[0m \u001b[38;5;28;01mif\u001b[39;00m expr \u001b[38;5;129;01mis\u001b[39;00m \u001b[38;5;28;01mNone\u001b[39;00m:\n\u001b[1;32m   1778\u001b[0m     \u001b[38;5;28;01mfrom\u001b[39;00m\u001b[38;5;250m \u001b[39m\u001b[38;5;21;01mibis\u001b[39;00m\u001b[38;5;21;01m.\u001b[39;00m\u001b[38;5;21;01mconfig\u001b[39;00m\u001b[38;5;250m \u001b[39m\u001b[38;5;28;01mimport\u001b[39;00m _default_backend\n\u001b[0;32m-> 1780\u001b[0m     \u001b[38;5;28;01mreturn\u001b[39;00m \u001b[43m_default_backend\u001b[49m\u001b[43m(\u001b[49m\u001b[43m)\u001b[49m\n\u001b[1;32m   1781\u001b[0m \u001b[38;5;28;01mreturn\u001b[39;00m expr\u001b[38;5;241m.\u001b[39m_find_backend(use_default\u001b[38;5;241m=\u001b[39m\u001b[38;5;28;01mTrue\u001b[39;00m)\n",
      "File \u001b[0;32m/app/ibis/config.py:164\u001b[0m, in \u001b[0;36m_default_backend\u001b[0;34m()\u001b[0m\n\u001b[1;32m    162\u001b[0m         \u001b[38;5;28;01mimport\u001b[39;00m\u001b[38;5;250m \u001b[39m\u001b[38;5;21;01mduckdb\u001b[39;00m\u001b[38;5;250m \u001b[39m\u001b[38;5;28;01mas\u001b[39;00m\u001b[38;5;250m \u001b[39m\u001b[38;5;21;01m_\u001b[39;00m  \u001b[38;5;66;03m# noqa: F401\u001b[39;00m\n\u001b[1;32m    163\u001b[0m     \u001b[38;5;28;01mexcept\u001b[39;00m \u001b[38;5;167;01mImportError\u001b[39;00m:\n\u001b[0;32m--> 164\u001b[0m         \u001b[38;5;28;01mraise\u001b[39;00m com\u001b[38;5;241m.\u001b[39mIbisError(\n\u001b[1;32m    165\u001b[0m \u001b[38;5;250m            \u001b[39m\u001b[38;5;124;03m\"\"\"\\\u001b[39;00m\n\u001b[1;32m    166\u001b[0m \u001b[38;5;124;03mYou have used a function that relies on the default backend, but the default\u001b[39;00m\n\u001b[1;32m    167\u001b[0m \u001b[38;5;124;03mbackend (DuckDB) is not installed.\u001b[39;00m\n\u001b[1;32m    168\u001b[0m \n\u001b[1;32m    169\u001b[0m \u001b[38;5;124;03mYou may specify an alternate backend to use, e.g.\u001b[39;00m\n\u001b[1;32m    170\u001b[0m \n\u001b[1;32m    171\u001b[0m \u001b[38;5;124;03mibis.set_backend(\"polars\")\u001b[39;00m\n\u001b[1;32m    172\u001b[0m \n\u001b[1;32m    173\u001b[0m \u001b[38;5;124;03mor to install the DuckDB backend, run:\u001b[39;00m\n\u001b[1;32m    174\u001b[0m \n\u001b[1;32m    175\u001b[0m \u001b[38;5;124;03m    pip install 'ibis-framework[duckdb]'\u001b[39;00m\n\u001b[1;32m    176\u001b[0m \n\u001b[1;32m    177\u001b[0m \u001b[38;5;124;03mor\u001b[39;00m\n\u001b[1;32m    178\u001b[0m \n\u001b[1;32m    179\u001b[0m \u001b[38;5;124;03m    conda install -c conda-forge ibis-framework\u001b[39;00m\n\u001b[1;32m    180\u001b[0m \n\u001b[1;32m    181\u001b[0m \u001b[38;5;124;03mFor more information on available backends, visit https://ibis-project.org/install\u001b[39;00m\n\u001b[1;32m    182\u001b[0m \u001b[38;5;124;03m\"\"\"\u001b[39;00m\n\u001b[1;32m    183\u001b[0m         )\n\u001b[1;32m    185\u001b[0m     \u001b[38;5;28;01mimport\u001b[39;00m\u001b[38;5;250m \u001b[39m\u001b[38;5;21;01mibis\u001b[39;00m\n\u001b[1;32m    187\u001b[0m     options\u001b[38;5;241m.\u001b[39mdefault_backend \u001b[38;5;241m=\u001b[39m con \u001b[38;5;241m=\u001b[39m ibis\u001b[38;5;241m.\u001b[39mduckdb\u001b[38;5;241m.\u001b[39mconnect(\u001b[38;5;124m\"\u001b[39m\u001b[38;5;124m:memory:\u001b[39m\u001b[38;5;124m\"\u001b[39m)\n",
      "\u001b[0;31mIbisError\u001b[0m: You have used a function that relies on the default backend, but the default\nbackend (DuckDB) is not installed.\n\nYou may specify an alternate backend to use, e.g.\n\nibis.set_backend(\"polars\")\n\nor to install the DuckDB backend, run:\n\n    pip install 'ibis-framework[duckdb]'\n\nor\n\n    conda install -c conda-forge ibis-framework\n\nFor more information on available backends, visit https://ibis-project.org/install\n"
     ]
    }
   ],
   "source": [
    "penguins = ibis.examples.penguins.fetch()"
   ]
  },
  {
   "cell_type": "code",
   "execution_count": null,
   "id": "528ae934-efb4-4f3d-abf2-7bd99cc2174c",
   "metadata": {},
   "outputs": [],
   "source": [
    "penguins = load_penguins()"
   ]
  },
  {
   "cell_type": "code",
   "execution_count": null,
   "id": "f7f40ee8-79c7-4e9c-bdd0-e45d47f2bf48",
   "metadata": {},
   "outputs": [],
   "source": [
    "type(penguins)"
   ]
  },
  {
   "cell_type": "code",
   "execution_count": null,
   "id": "b530bc84-8e6f-4b11-8fa6-e5d3c520fdc3",
   "metadata": {},
   "outputs": [],
   "source": [
    "t = ibis.memtable(penguins, name=\"t\")"
   ]
  },
  {
   "cell_type": "code",
   "execution_count": null,
   "id": "0165a8e8-117e-4449-a7a9-b3dc9b382d34",
   "metadata": {},
   "outputs": [],
   "source": [
    "t.columns"
   ]
  },
  {
   "cell_type": "code",
   "execution_count": null,
   "id": "7ef4a8a0-dabb-45c7-997c-81c14e394b2b",
   "metadata": {},
   "outputs": [],
   "source": [
    "result = t.mutate(\n",
    "    rank=t.bill_length_mm.rank().over(\n",
    "        group_by='species', order_by=-1 * t.bill_length_mm\n",
    "    )\n",
    ").filter(\n",
    "    _.rank == 0\n",
    ").execute()"
   ]
  },
  {
   "cell_type": "code",
   "execution_count": null,
   "id": "2115b37e-397d-4496-baed-b00696b8bf11",
   "metadata": {},
   "outputs": [],
   "source": [
    "result = penguins.mutate(\n",
    "    rank=penguins.bill_length_mm.rank().over(\n",
    "        group_by='species', order_by=-1 * penguins.bill_length_mm\n",
    "    )\n",
    ").filter(\n",
    "    penguins.rank == 0\n",
    ").execute()"
   ]
  },
  {
   "cell_type": "code",
   "execution_count": null,
   "id": "8596a1f8-62ca-42ad-9992-1bf541c289b9",
   "metadata": {},
   "outputs": [],
   "source": []
  }
 ],
 "metadata": {
  "kernelspec": {
   "display_name": "Python 3 (ipykernel)",
   "language": "python",
   "name": "python3"
  },
  "language_info": {
   "codemirror_mode": {
    "name": "ipython",
    "version": 3
   },
   "file_extension": ".py",
   "mimetype": "text/x-python",
   "name": "python",
   "nbconvert_exporter": "python",
   "pygments_lexer": "ipython3",
   "version": "3.13.1"
  }
 },
 "nbformat": 4,
 "nbformat_minor": 5
}
